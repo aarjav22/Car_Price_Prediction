{
 "cells": [
  {
   "cell_type": "markdown",
   "metadata": {},
   "source": [
    "# Data Analysis "
   ]
  },
  {
   "cell_type": "code",
   "execution_count": 1,
   "metadata": {},
   "outputs": [],
   "source": [
    "import pandas as pd\n",
    "import numpy as np\n",
    "import matplotlib.pyplot as plt\n",
    "import seaborn as sns"
   ]
  },
  {
   "cell_type": "code",
   "execution_count": 2,
   "metadata": {
    "scrolled": true
   },
   "outputs": [],
   "source": [
    "#importing the cleaned data\n",
    "path='./cleaned_data.csv'\n",
    "df=pd.read_csv(path)"
   ]
  },
  {
   "cell_type": "code",
   "execution_count": 3,
   "metadata": {},
   "outputs": [
    {
     "data": {
      "text/html": [
       "<div>\n",
       "<style scoped>\n",
       "    .dataframe tbody tr th:only-of-type {\n",
       "        vertical-align: middle;\n",
       "    }\n",
       "\n",
       "    .dataframe tbody tr th {\n",
       "        vertical-align: top;\n",
       "    }\n",
       "\n",
       "    .dataframe thead th {\n",
       "        text-align: right;\n",
       "    }\n",
       "</style>\n",
       "<table border=\"1\" class=\"dataframe\">\n",
       "  <thead>\n",
       "    <tr style=\"text-align: right;\">\n",
       "      <th></th>\n",
       "      <th>symboling</th>\n",
       "      <th>wheel-base</th>\n",
       "      <th>length</th>\n",
       "      <th>width</th>\n",
       "      <th>curb-weight</th>\n",
       "      <th>engine-size</th>\n",
       "      <th>bore</th>\n",
       "      <th>horsepower</th>\n",
       "      <th>peak-rpm</th>\n",
       "      <th>price</th>\n",
       "      <th>city-L/100km</th>\n",
       "      <th>highway-L/100km</th>\n",
       "      <th>horsepower-binned</th>\n",
       "      <th>cylinders_identity</th>\n",
       "    </tr>\n",
       "  </thead>\n",
       "  <tbody>\n",
       "    <tr>\n",
       "      <td>0</td>\n",
       "      <td>3</td>\n",
       "      <td>88.6</td>\n",
       "      <td>0.811148</td>\n",
       "      <td>0.890278</td>\n",
       "      <td>2548</td>\n",
       "      <td>130</td>\n",
       "      <td>3.47</td>\n",
       "      <td>111</td>\n",
       "      <td>5000.0</td>\n",
       "      <td>13495</td>\n",
       "      <td>11.190476</td>\n",
       "      <td>8.703704</td>\n",
       "      <td>low</td>\n",
       "      <td>1</td>\n",
       "    </tr>\n",
       "    <tr>\n",
       "      <td>1</td>\n",
       "      <td>3</td>\n",
       "      <td>88.6</td>\n",
       "      <td>0.811148</td>\n",
       "      <td>0.890278</td>\n",
       "      <td>2548</td>\n",
       "      <td>130</td>\n",
       "      <td>3.47</td>\n",
       "      <td>111</td>\n",
       "      <td>5000.0</td>\n",
       "      <td>16500</td>\n",
       "      <td>11.190476</td>\n",
       "      <td>8.703704</td>\n",
       "      <td>low</td>\n",
       "      <td>1</td>\n",
       "    </tr>\n",
       "    <tr>\n",
       "      <td>2</td>\n",
       "      <td>1</td>\n",
       "      <td>94.5</td>\n",
       "      <td>0.822681</td>\n",
       "      <td>0.909722</td>\n",
       "      <td>2823</td>\n",
       "      <td>152</td>\n",
       "      <td>2.68</td>\n",
       "      <td>154</td>\n",
       "      <td>5000.0</td>\n",
       "      <td>16500</td>\n",
       "      <td>12.368421</td>\n",
       "      <td>9.038462</td>\n",
       "      <td>medium</td>\n",
       "      <td>2</td>\n",
       "    </tr>\n",
       "    <tr>\n",
       "      <td>3</td>\n",
       "      <td>2</td>\n",
       "      <td>99.8</td>\n",
       "      <td>0.848630</td>\n",
       "      <td>0.919444</td>\n",
       "      <td>2337</td>\n",
       "      <td>109</td>\n",
       "      <td>3.19</td>\n",
       "      <td>102</td>\n",
       "      <td>5500.0</td>\n",
       "      <td>13950</td>\n",
       "      <td>9.791667</td>\n",
       "      <td>7.833333</td>\n",
       "      <td>low</td>\n",
       "      <td>1</td>\n",
       "    </tr>\n",
       "    <tr>\n",
       "      <td>4</td>\n",
       "      <td>2</td>\n",
       "      <td>99.4</td>\n",
       "      <td>0.848630</td>\n",
       "      <td>0.922222</td>\n",
       "      <td>2824</td>\n",
       "      <td>136</td>\n",
       "      <td>3.19</td>\n",
       "      <td>115</td>\n",
       "      <td>5500.0</td>\n",
       "      <td>17450</td>\n",
       "      <td>13.055556</td>\n",
       "      <td>10.681818</td>\n",
       "      <td>low</td>\n",
       "      <td>3</td>\n",
       "    </tr>\n",
       "  </tbody>\n",
       "</table>\n",
       "</div>"
      ],
      "text/plain": [
       "   symboling  wheel-base    length     width  curb-weight  engine-size  bore  \\\n",
       "0          3        88.6  0.811148  0.890278         2548          130  3.47   \n",
       "1          3        88.6  0.811148  0.890278         2548          130  3.47   \n",
       "2          1        94.5  0.822681  0.909722         2823          152  2.68   \n",
       "3          2        99.8  0.848630  0.919444         2337          109  3.19   \n",
       "4          2        99.4  0.848630  0.922222         2824          136  3.19   \n",
       "\n",
       "   horsepower  peak-rpm  price  city-L/100km  highway-L/100km  \\\n",
       "0         111    5000.0  13495     11.190476         8.703704   \n",
       "1         111    5000.0  16500     11.190476         8.703704   \n",
       "2         154    5000.0  16500     12.368421         9.038462   \n",
       "3         102    5500.0  13950      9.791667         7.833333   \n",
       "4         115    5500.0  17450     13.055556        10.681818   \n",
       "\n",
       "  horsepower-binned  cylinders_identity  \n",
       "0               low                   1  \n",
       "1               low                   1  \n",
       "2            medium                   2  \n",
       "3               low                   1  \n",
       "4               low                   3  "
      ]
     },
     "execution_count": 3,
     "metadata": {},
     "output_type": "execute_result"
    }
   ],
   "source": [
    "df.head()"
   ]
  },
  {
   "cell_type": "code",
   "execution_count": 4,
   "metadata": {},
   "outputs": [],
   "source": [
    "#plotting the regplot to estimate the logistic regression model "
   ]
  },
  {
   "cell_type": "code",
   "execution_count": 5,
   "metadata": {},
   "outputs": [
    {
     "data": {
      "text/plain": [
       "Text(0.5, 1.0, 'engine-size vs price')"
      ]
     },
     "execution_count": 5,
     "metadata": {},
     "output_type": "execute_result"
    },
    {
     "data": {
      "image/png": "[encoded data removed]",
      "text/plain": [
       "<Figure size 432x288 with 1 Axes>"
      ]
     },
     "metadata": {
      "needs_background": "light"
     },
     "output_type": "display_data"
    }
   ],
   "source": [
    "#regression plot of engine-size vs price\n",
    "sns.regplot(x='engine-size',y='price',data=df,ci=None)\n",
    "plt.ylim(0,)\n",
    "plt.title(\"engine-size vs price\")"
   ]
  },
  {
   "cell_type": "markdown",
   "metadata": {},
   "source": [
    "this regression plot shows engine size has a good linear relation with price"
   ]
  },
  {
   "cell_type": "code",
   "execution_count": 6,
   "metadata": {},
   "outputs": [
    {
     "data": {
      "text/plain": [
       "Text(0.5, 1.0, 'highway-L/100km vs price')"
      ]
     },
     "execution_count": 6,
     "metadata": {},
     "output_type": "execute_result"
    },
    {
     "data": {
      "image/png": "[encoded data removed]",
      "text/plain": [
       "<Figure size 432x288 with 1 Axes>"
      ]
     },
     "metadata": {
      "needs_background": "light"
     },
     "output_type": "display_data"
    }
   ],
   "source": [
    "#regression plot of highway-L/100km vs price\n",
    "sns.regplot(x=\"highway-L/100km\", y=\"price\", data=df,ci=None)\n",
    "plt.title(\"highway-L/100km vs price\")"
   ]
  },
  {
   "cell_type": "markdown",
   "metadata": {},
   "source": [
    "this regression plot shows highway-L/100km has a good linear relation with price"
   ]
  },
  {
   "cell_type": "code",
   "execution_count": 7,
   "metadata": {},
   "outputs": [
    {
     "data": {
      "text/plain": [
       "Text(0.5, 1.0, 'curb-weight vs price')"
      ]
     },
     "execution_count": 7,
     "metadata": {},
     "output_type": "execute_result"
    },
    {
     "data": {
      "image/png": "[encoded data removed]",
      "text/plain": [
       "<Figure size 432x288 with 1 Axes>"
      ]
     },
     "metadata": {
      "needs_background": "light"
     },
     "output_type": "display_data"
    }
   ],
   "source": [
    "#regression plot of curb-weight vs price\n",
    "sns.regplot(x='curb-weight',y='price',data=df,ci=None)\n",
    "plt.ylim(0,)\n",
    "plt.title(\"curb-weight vs price\")"
   ]
  },
  {
   "cell_type": "markdown",
   "metadata": {},
   "source": [
    "this regression plot shows curb-weight has a good linear relation with price"
   ]
  },
  {
   "cell_type": "code",
   "execution_count": 8,
   "metadata": {},
   "outputs": [
    {
     "data": {
      "text/plain": [
       "Text(0.5, 1.0, 'width vs price')"
      ]
     },
     "execution_count": 8,
     "metadata": {},
     "output_type": "execute_result"
    },
    {
     "data": {
      "image/png": "[encoded data removed]",
      "text/plain": [
       "<Figure size 432x288 with 1 Axes>"
      ]
     },
     "metadata": {
      "needs_background": "light"
     },
     "output_type": "display_data"
    }
   ],
   "source": [
    "#regression plot of width vs price\n",
    "sns.regplot(x='width',y='price',data=df,ci=None)\n",
    "plt.ylim(0,)\n",
    "plt.title(\"width vs price\")"
   ]
  },
  {
   "cell_type": "markdown",
   "metadata": {},
   "source": [
    "this regression plot shows width has a pretty good linear relation with price"
   ]
  },
  {
   "cell_type": "code",
   "execution_count": 9,
   "metadata": {},
   "outputs": [
    {
     "data": {
      "text/plain": [
       "Text(0.5, 1.0, 'horsepower vs price')"
      ]
     },
     "execution_count": 9,
     "metadata": {},
     "output_type": "execute_result"
    },
    {
     "data": {
      "image/png": "[encoded data removed]",
      "text/plain": [
       "<Figure size 432x288 with 1 Axes>"
      ]
     },
     "metadata": {
      "needs_background": "light"
     },
     "output_type": "display_data"
    }
   ],
   "source": [
    "#regression plot of horsepower vs price\n",
    "sns.regplot(x='horsepower',y='price',data=df,ci=None)\n",
    "plt.ylim(0,)\n",
    "plt.title(\"horsepower vs price\")"
   ]
  },
  {
   "cell_type": "markdown",
   "metadata": {},
   "source": [
    "this regression plot shows horsepower also has a good linear relation with price"
   ]
  },
  {
   "cell_type": "code",
   "execution_count": 10,
   "metadata": {},
   "outputs": [],
   "source": [
    "from scipy import stats"
   ]
  },
  {
   "cell_type": "code",
   "execution_count": 11,
   "metadata": {},
   "outputs": [],
   "source": [
    "#calculating the pearson_coeff and p_value of price vs other attributes"
   ]
  },
  {
   "cell_type": "code",
   "execution_count": 12,
   "metadata": {},
   "outputs": [
    {
     "name": "stdout",
     "output_type": "stream",
     "text": [
      "0.5846418222655079 8.076488270733275e-20\n"
     ]
    }
   ],
   "source": [
    "pearson_coeff,p_value=stats.pearsonr(df['wheel-base'],df['price'])\n",
    "print(pearson_coeff,p_value)"
   ]
  },
  {
   "cell_type": "code",
   "execution_count": 13,
   "metadata": {},
   "outputs": [
    {
     "name": "stdout",
     "output_type": "stream",
     "text": [
      "0.8097290352560288 5.924001027592667e-48\n"
     ]
    }
   ],
   "source": [
    "pearson_coeff,p_value=stats.pearsonr(df['horsepower'],df['price'])\n",
    "print(pearson_coeff,p_value)"
   ]
  },
  {
   "cell_type": "code",
   "execution_count": 14,
   "metadata": {},
   "outputs": [
    {
     "name": "stdout",
     "output_type": "stream",
     "text": [
      "0.6906283804483639 8.016477466159328e-30\n"
     ]
    }
   ],
   "source": [
    "pearson_coeff,p_value=stats.pearsonr(df['length'],df['price'])\n",
    "print(pearson_coeff,p_value)"
   ]
  },
  {
   "cell_type": "code",
   "execution_count": 15,
   "metadata": {},
   "outputs": [
    {
     "name": "stdout",
     "output_type": "stream",
     "text": [
      "0.7512653440522671 9.200335510482432e-38\n"
     ]
    }
   ],
   "source": [
    "pearson_coeff,p_value=stats.pearsonr(df['width'],df['price'])\n",
    "print(pearson_coeff,p_value)"
   ]
  },
  {
   "cell_type": "code",
   "execution_count": 16,
   "metadata": {},
   "outputs": [
    {
     "name": "stdout",
     "output_type": "stream",
     "text": [
      "0.8344145257702843 2.189577238894065e-53\n"
     ]
    }
   ],
   "source": [
    "pearson_coeff,p_value=stats.pearsonr(df['curb-weight'],df['price'])\n",
    "print(pearson_coeff,p_value)"
   ]
  },
  {
   "cell_type": "code",
   "execution_count": 17,
   "metadata": {},
   "outputs": [
    {
     "name": "stdout",
     "output_type": "stream",
     "text": [
      "0.8723351674455181 9.265491622201286e-64\n"
     ]
    }
   ],
   "source": [
    "pearson_coeff,p_value=stats.pearsonr(df['engine-size'],df['price'])\n",
    "print(pearson_coeff,p_value)"
   ]
  },
  {
   "cell_type": "code",
   "execution_count": 18,
   "metadata": {},
   "outputs": [
    {
     "name": "stdout",
     "output_type": "stream",
     "text": [
      "0.5431537659807734 8.051208825441016e-17\n"
     ]
    }
   ],
   "source": [
    "pearson_coeff,p_value=stats.pearsonr(df['bore'],df['price'])\n",
    "print(pearson_coeff,p_value)"
   ]
  },
  {
   "cell_type": "code",
   "execution_count": 19,
   "metadata": {},
   "outputs": [
    {
     "name": "stdout",
     "output_type": "stream",
     "text": [
      "0.7898975136626942 3.903106400939858e-44\n"
     ]
    }
   ],
   "source": [
    "pearson_coeff,p_value=stats.pearsonr(df['city-L/100km'],df['price'])\n",
    "print(pearson_coeff,p_value)"
   ]
  },
  {
   "cell_type": "code",
   "execution_count": 20,
   "metadata": {},
   "outputs": [
    {
     "name": "stdout",
     "output_type": "stream",
     "text": [
      "0.8011176263981972 3.0467845810416295e-46\n"
     ]
    }
   ],
   "source": [
    "pearson_coeff,p_value=stats.pearsonr(df['highway-L/100km'],df['price'])\n",
    "print(pearson_coeff,p_value)"
   ]
  },
  {
   "cell_type": "code",
   "execution_count": 21,
   "metadata": {},
   "outputs": [
    {
     "name": "stdout",
     "output_type": "stream",
     "text": [
      "0.5803297264474716 1.7334062563753277e-19\n"
     ]
    }
   ],
   "source": [
    "pearson_coeff,p_value=stats.pearsonr(df['cylinders_identity'],df['price'])\n",
    "print(pearson_coeff,p_value)"
   ]
  },
  {
   "cell_type": "code",
   "execution_count": 22,
   "metadata": {},
   "outputs": [
    {
     "data": {
      "text/html": [
       "<div>\n",
       "<style scoped>\n",
       "    .dataframe tbody tr th:only-of-type {\n",
       "        vertical-align: middle;\n",
       "    }\n",
       "\n",
       "    .dataframe tbody tr th {\n",
       "        vertical-align: top;\n",
       "    }\n",
       "\n",
       "    .dataframe thead th {\n",
       "        text-align: right;\n",
       "    }\n",
       "</style>\n",
       "<table border=\"1\" class=\"dataframe\">\n",
       "  <thead>\n",
       "    <tr style=\"text-align: right;\">\n",
       "      <th></th>\n",
       "      <th>symboling</th>\n",
       "      <th>wheel-base</th>\n",
       "      <th>length</th>\n",
       "      <th>width</th>\n",
       "      <th>curb-weight</th>\n",
       "      <th>engine-size</th>\n",
       "      <th>bore</th>\n",
       "      <th>horsepower</th>\n",
       "      <th>peak-rpm</th>\n",
       "      <th>price</th>\n",
       "      <th>city-L/100km</th>\n",
       "      <th>highway-L/100km</th>\n",
       "      <th>cylinders_identity</th>\n",
       "    </tr>\n",
       "  </thead>\n",
       "  <tbody>\n",
       "    <tr>\n",
       "      <td>symboling</td>\n",
       "      <td>1.000000</td>\n",
       "      <td>-0.535987</td>\n",
       "      <td>-0.365404</td>\n",
       "      <td>-0.242423</td>\n",
       "      <td>-0.233118</td>\n",
       "      <td>-0.110581</td>\n",
       "      <td>-0.139896</td>\n",
       "      <td>0.075776</td>\n",
       "      <td>0.279719</td>\n",
       "      <td>-0.082391</td>\n",
       "      <td>0.066171</td>\n",
       "      <td>-0.029807</td>\n",
       "      <td>0.106653</td>\n",
       "    </tr>\n",
       "    <tr>\n",
       "      <td>wheel-base</td>\n",
       "      <td>-0.535987</td>\n",
       "      <td>1.000000</td>\n",
       "      <td>0.876024</td>\n",
       "      <td>0.814507</td>\n",
       "      <td>0.782097</td>\n",
       "      <td>0.572027</td>\n",
       "      <td>0.493203</td>\n",
       "      <td>0.371297</td>\n",
       "      <td>-0.360233</td>\n",
       "      <td>0.584642</td>\n",
       "      <td>0.476153</td>\n",
       "      <td>0.577576</td>\n",
       "      <td>0.281960</td>\n",
       "    </tr>\n",
       "    <tr>\n",
       "      <td>length</td>\n",
       "      <td>-0.365404</td>\n",
       "      <td>0.876024</td>\n",
       "      <td>1.000000</td>\n",
       "      <td>0.857170</td>\n",
       "      <td>0.880665</td>\n",
       "      <td>0.685025</td>\n",
       "      <td>0.608941</td>\n",
       "      <td>0.579688</td>\n",
       "      <td>-0.286035</td>\n",
       "      <td>0.690628</td>\n",
       "      <td>0.657373</td>\n",
       "      <td>0.707108</td>\n",
       "      <td>0.311345</td>\n",
       "    </tr>\n",
       "    <tr>\n",
       "      <td>width</td>\n",
       "      <td>-0.242423</td>\n",
       "      <td>0.814507</td>\n",
       "      <td>0.857170</td>\n",
       "      <td>1.000000</td>\n",
       "      <td>0.866201</td>\n",
       "      <td>0.729436</td>\n",
       "      <td>0.544879</td>\n",
       "      <td>0.614972</td>\n",
       "      <td>-0.245852</td>\n",
       "      <td>0.751265</td>\n",
       "      <td>0.673363</td>\n",
       "      <td>0.736728</td>\n",
       "      <td>0.470501</td>\n",
       "    </tr>\n",
       "    <tr>\n",
       "      <td>curb-weight</td>\n",
       "      <td>-0.233118</td>\n",
       "      <td>0.782097</td>\n",
       "      <td>0.880665</td>\n",
       "      <td>0.866201</td>\n",
       "      <td>1.000000</td>\n",
       "      <td>0.849072</td>\n",
       "      <td>0.644041</td>\n",
       "      <td>0.758001</td>\n",
       "      <td>-0.279350</td>\n",
       "      <td>0.834415</td>\n",
       "      <td>0.785353</td>\n",
       "      <td>0.836921</td>\n",
       "      <td>0.434618</td>\n",
       "    </tr>\n",
       "    <tr>\n",
       "      <td>engine-size</td>\n",
       "      <td>-0.110581</td>\n",
       "      <td>0.572027</td>\n",
       "      <td>0.685025</td>\n",
       "      <td>0.729436</td>\n",
       "      <td>0.849072</td>\n",
       "      <td>1.000000</td>\n",
       "      <td>0.572516</td>\n",
       "      <td>0.822636</td>\n",
       "      <td>-0.256753</td>\n",
       "      <td>0.872335</td>\n",
       "      <td>0.745059</td>\n",
       "      <td>0.783465</td>\n",
       "      <td>0.491009</td>\n",
       "    </tr>\n",
       "    <tr>\n",
       "      <td>bore</td>\n",
       "      <td>-0.139896</td>\n",
       "      <td>0.493203</td>\n",
       "      <td>0.608941</td>\n",
       "      <td>0.544879</td>\n",
       "      <td>0.644041</td>\n",
       "      <td>0.572516</td>\n",
       "      <td>1.000000</td>\n",
       "      <td>0.566786</td>\n",
       "      <td>-0.267338</td>\n",
       "      <td>0.543154</td>\n",
       "      <td>0.554726</td>\n",
       "      <td>0.559197</td>\n",
       "      <td>0.143076</td>\n",
       "    </tr>\n",
       "    <tr>\n",
       "      <td>horsepower</td>\n",
       "      <td>0.075776</td>\n",
       "      <td>0.371297</td>\n",
       "      <td>0.579688</td>\n",
       "      <td>0.614972</td>\n",
       "      <td>0.758001</td>\n",
       "      <td>0.822636</td>\n",
       "      <td>0.566786</td>\n",
       "      <td>1.000000</td>\n",
       "      <td>0.107882</td>\n",
       "      <td>0.809729</td>\n",
       "      <td>0.889454</td>\n",
       "      <td>0.840695</td>\n",
       "      <td>0.433441</td>\n",
       "    </tr>\n",
       "    <tr>\n",
       "      <td>peak-rpm</td>\n",
       "      <td>0.279719</td>\n",
       "      <td>-0.360233</td>\n",
       "      <td>-0.286035</td>\n",
       "      <td>-0.245852</td>\n",
       "      <td>-0.279350</td>\n",
       "      <td>-0.256753</td>\n",
       "      <td>-0.267338</td>\n",
       "      <td>0.107882</td>\n",
       "      <td>1.000000</td>\n",
       "      <td>-0.101542</td>\n",
       "      <td>0.115813</td>\n",
       "      <td>0.017736</td>\n",
       "      <td>0.038157</td>\n",
       "    </tr>\n",
       "    <tr>\n",
       "      <td>price</td>\n",
       "      <td>-0.082391</td>\n",
       "      <td>0.584642</td>\n",
       "      <td>0.690628</td>\n",
       "      <td>0.751265</td>\n",
       "      <td>0.834415</td>\n",
       "      <td>0.872335</td>\n",
       "      <td>0.543154</td>\n",
       "      <td>0.809729</td>\n",
       "      <td>-0.101542</td>\n",
       "      <td>1.000000</td>\n",
       "      <td>0.789898</td>\n",
       "      <td>0.801118</td>\n",
       "      <td>0.580330</td>\n",
       "    </tr>\n",
       "    <tr>\n",
       "      <td>city-L/100km</td>\n",
       "      <td>0.066171</td>\n",
       "      <td>0.476153</td>\n",
       "      <td>0.657373</td>\n",
       "      <td>0.673363</td>\n",
       "      <td>0.785353</td>\n",
       "      <td>0.745059</td>\n",
       "      <td>0.554726</td>\n",
       "      <td>0.889454</td>\n",
       "      <td>0.115813</td>\n",
       "      <td>0.789898</td>\n",
       "      <td>1.000000</td>\n",
       "      <td>0.958306</td>\n",
       "      <td>0.579371</td>\n",
       "    </tr>\n",
       "    <tr>\n",
       "      <td>highway-L/100km</td>\n",
       "      <td>-0.029807</td>\n",
       "      <td>0.577576</td>\n",
       "      <td>0.707108</td>\n",
       "      <td>0.736728</td>\n",
       "      <td>0.836921</td>\n",
       "      <td>0.783465</td>\n",
       "      <td>0.559197</td>\n",
       "      <td>0.840695</td>\n",
       "      <td>0.017736</td>\n",
       "      <td>0.801118</td>\n",
       "      <td>0.958306</td>\n",
       "      <td>1.000000</td>\n",
       "      <td>0.626407</td>\n",
       "    </tr>\n",
       "    <tr>\n",
       "      <td>cylinders_identity</td>\n",
       "      <td>0.106653</td>\n",
       "      <td>0.281960</td>\n",
       "      <td>0.311345</td>\n",
       "      <td>0.470501</td>\n",
       "      <td>0.434618</td>\n",
       "      <td>0.491009</td>\n",
       "      <td>0.143076</td>\n",
       "      <td>0.433441</td>\n",
       "      <td>0.038157</td>\n",
       "      <td>0.580330</td>\n",
       "      <td>0.579371</td>\n",
       "      <td>0.626407</td>\n",
       "      <td>1.000000</td>\n",
       "    </tr>\n",
       "  </tbody>\n",
       "</table>\n",
       "</div>"
      ],
      "text/plain": [
       "                    symboling  wheel-base    length     width  curb-weight  \\\n",
       "symboling            1.000000   -0.535987 -0.365404 -0.242423    -0.233118   \n",
       "wheel-base          -0.535987    1.000000  0.876024  0.814507     0.782097   \n",
       "length              -0.365404    0.876024  1.000000  0.857170     0.880665   \n",
       "width               -0.242423    0.814507  0.857170  1.000000     0.866201   \n",
       "curb-weight         -0.233118    0.782097  0.880665  0.866201     1.000000   \n",
       "engine-size         -0.110581    0.572027  0.685025  0.729436     0.849072   \n",
       "bore                -0.139896    0.493203  0.608941  0.544879     0.644041   \n",
       "horsepower           0.075776    0.371297  0.579688  0.614972     0.758001   \n",
       "peak-rpm             0.279719   -0.360233 -0.286035 -0.245852    -0.279350   \n",
       "price               -0.082391    0.584642  0.690628  0.751265     0.834415   \n",
       "city-L/100km         0.066171    0.476153  0.657373  0.673363     0.785353   \n",
       "highway-L/100km     -0.029807    0.577576  0.707108  0.736728     0.836921   \n",
       "cylinders_identity   0.106653    0.281960  0.311345  0.470501     0.434618   \n",
       "\n",
       "                    engine-size      bore  horsepower  peak-rpm     price  \\\n",
       "symboling             -0.110581 -0.139896    0.075776  0.279719 -0.082391   \n",
       "wheel-base             0.572027  0.493203    0.371297 -0.360233  0.584642   \n",
       "length                 0.685025  0.608941    0.579688 -0.286035  0.690628   \n",
       "width                  0.729436  0.544879    0.614972 -0.245852  0.751265   \n",
       "curb-weight            0.849072  0.644041    0.758001 -0.279350  0.834415   \n",
       "engine-size            1.000000  0.572516    0.822636 -0.256753  0.872335   \n",
       "bore                   0.572516  1.000000    0.566786 -0.267338  0.543154   \n",
       "horsepower             0.822636  0.566786    1.000000  0.107882  0.809729   \n",
       "peak-rpm              -0.256753 -0.267338    0.107882  1.000000 -0.101542   \n",
       "price                  0.872335  0.543154    0.809729 -0.101542  1.000000   \n",
       "city-L/100km           0.745059  0.554726    0.889454  0.115813  0.789898   \n",
       "highway-L/100km        0.783465  0.559197    0.840695  0.017736  0.801118   \n",
       "cylinders_identity     0.491009  0.143076    0.433441  0.038157  0.580330   \n",
       "\n",
       "                    city-L/100km  highway-L/100km  cylinders_identity  \n",
       "symboling               0.066171        -0.029807            0.106653  \n",
       "wheel-base              0.476153         0.577576            0.281960  \n",
       "length                  0.657373         0.707108            0.311345  \n",
       "width                   0.673363         0.736728            0.470501  \n",
       "curb-weight             0.785353         0.836921            0.434618  \n",
       "engine-size             0.745059         0.783465            0.491009  \n",
       "bore                    0.554726         0.559197            0.143076  \n",
       "horsepower              0.889454         0.840695            0.433441  \n",
       "peak-rpm                0.115813         0.017736            0.038157  \n",
       "price                   0.789898         0.801118            0.580330  \n",
       "city-L/100km            1.000000         0.958306            0.579371  \n",
       "highway-L/100km         0.958306         1.000000            0.626407  \n",
       "cylinders_identity      0.579371         0.626407            1.000000  "
      ]
     },
     "execution_count": 22,
     "metadata": {},
     "output_type": "execute_result"
    }
   ],
   "source": [
    "df.corr()"
   ]
  },
  {
   "cell_type": "code",
   "execution_count": 23,
   "metadata": {},
   "outputs": [],
   "source": [
    "#droping the attributes which doesn't form a part for linear regression"
   ]
  },
  {
   "cell_type": "code",
   "execution_count": 24,
   "metadata": {},
   "outputs": [],
   "source": [
    "df.drop(df[['symboling','wheel-base','length','bore','cylinders_identity']],axis=1,inplace=True)"
   ]
  },
  {
   "cell_type": "code",
   "execution_count": 25,
   "metadata": {},
   "outputs": [],
   "source": [
    "df.to_csv('./final.csv',index=False)"
   ]
  }
 ],
 "metadata": {
  "kernelspec": {
   "display_name": "Python 3",
   "language": "python",
   "name": "python3"
  },
  "language_info": {
   "codemirror_mode": {
    "name": "ipython",
    "version": 3
   },
   "file_extension": ".py",
   "mimetype": "text/x-python",
   "name": "python",
   "nbconvert_exporter": "python",
   "pygments_lexer": "ipython3",
   "version": "3.7.4"
  }
 },
 "nbformat": 4,
 "nbformat_minor": 4
}
